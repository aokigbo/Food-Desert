{
 "cells": [
  {
   "cell_type": "markdown",
   "metadata": {},
   "source": [
    "# Introduction\n",
    "\n",
    "## Group Name : <b style='color:orange;'>Desert Crawlers</b> | Afam Okigbo and Nick Crum"
   ]
  },
  {
   "cell_type": "markdown",
   "metadata": {},
   "source": [
    "![](https://i.gifer.com/6KPT.gif)"
   ]
  },
  {
   "cell_type": "markdown",
   "metadata": {},
   "source": [
    "We used four datasets from the WPRDC, and the factors we used to decide the best neighborhood in Pittsburgh were:\n",
    "- Allegheny County Fast Food Establishments (https://data.wprdc.org/dataset/allegheny-county-fast-food)\n",
    "- Allegheny County Supermarkets and Convenience Stores (https://data.wprdc.org/dataset/allegheny-county-supermarkets-convenience-stores)\n",
    "- 2020 Census Redistricting Data Extracts (https://data.wprdc.org/dataset/2020-census-redistricting-data-extracts)\n",
    "- Pittsburgh Neighborhoods Map (https://data.wprdc.org/dataset/pittsburgh-neighborhoods) *for visualization*\n",
    "\n",
    "For our project, we wanted to take a look at what the best neighborhood would have the easiest access to food for their population. By definition, a food desert is a neighborhood or area that does not have easy access to grocery stores, and the only purchasable food would be from fast food establishments. By missing this critical infrastructure, access to fresh food is all but impossible, because of how difficult it might be to get to the nearest supermarket. Communities with this problem can also see a high obesity and diabetes rate among their population.\n"
   ]
  },
  {
   "cell_type": "markdown",
   "metadata": {},
   "source": [
    "--------------------------------"
   ]
  },
  {
   "cell_type": "markdown",
   "metadata": {},
   "source": [
    "# The Metric\n",
    "*The metrics we used were as following:*\n",
    "\n",
    "## Grocery Stores\n",
    "Grocery Stores/Supermarkets are the essential part of this view of the city. When we are judging how accessible fresh food, such as fruits and vegetables, is to people, access to grocery stores is the prime factor. When a person is able to easily access a grocery store, they are able to keep their options open for healthy eating. We used this dataset in our analysis by running a program through the WPRDC’s dataset to see how many grocery stores were in each zip code area. After that, we transferred these numbers to a spreadsheet to compare it with data from more datasets we used to make a conclusion. Unsurprisingly, the more grocery stores a zip code had, the more highly it was ranked."
   ]
  },
  {
   "cell_type": "markdown",
   "metadata": {},
   "source": [
    "*Most - East Liberty*"
   ]
  },
  {
   "cell_type": "code",
   "execution_count": 1,
   "metadata": {},
   "outputs": [
    {
     "data": {
      "text/html": [
       "<div>\n",
       "<style scoped>\n",
       "    .dataframe tbody tr th:only-of-type {\n",
       "        vertical-align: middle;\n",
       "    }\n",
       "\n",
       "    .dataframe tbody tr th {\n",
       "        vertical-align: top;\n",
       "    }\n",
       "\n",
       "    .dataframe thead th {\n",
       "        text-align: right;\n",
       "    }\n",
       "</style>\n",
       "<table border=\"1\" class=\"dataframe\">\n",
       "  <thead>\n",
       "    <tr style=\"text-align: right;\">\n",
       "      <th></th>\n",
       "      <th>ZIP Code</th>\n",
       "      <th>Neighborhood</th>\n",
       "      <th>Population</th>\n",
       "      <th>Number Fast Food</th>\n",
       "      <th>Fast Food Per Capita</th>\n",
       "      <th>Number Grocery Stores</th>\n",
       "      <th>Fast Food/Grocery Ratio</th>\n",
       "      <th>Grocery Store Per Capita</th>\n",
       "      <th>geometry</th>\n",
       "    </tr>\n",
       "  </thead>\n",
       "  <tbody>\n",
       "    <tr>\n",
       "      <th>2</th>\n",
       "      <td>15206</td>\n",
       "      <td>East Liberty</td>\n",
       "      <td>05869</td>\n",
       "      <td>11</td>\n",
       "      <td>0.00711974110032363</td>\n",
       "      <td>4</td>\n",
       "      <td>11:4</td>\n",
       "      <td>0.00258899676375405</td>\n",
       "      <td>None</td>\n",
       "    </tr>\n",
       "    <tr>\n",
       "      <th>3</th>\n",
       "      <td>15210</td>\n",
       "      <td>St. Clair</td>\n",
       "      <td>03994</td>\n",
       "      <td>11</td>\n",
       "      <td>0.00275413119679519</td>\n",
       "      <td>4</td>\n",
       "      <td>11:4</td>\n",
       "      <td>0.00100150225338007</td>\n",
       "      <td>None</td>\n",
       "    </tr>\n",
       "    <tr>\n",
       "      <th>7</th>\n",
       "      <td>15217</td>\n",
       "      <td>Squirrel Hill South</td>\n",
       "      <td>15317</td>\n",
       "      <td>20</td>\n",
       "      <td>0.00130573872168179</td>\n",
       "      <td>4</td>\n",
       "      <td>20:4</td>\n",
       "      <td>0.000261147744336358</td>\n",
       "      <td>None</td>\n",
       "    </tr>\n",
       "    <tr>\n",
       "      <th>9</th>\n",
       "      <td>15222</td>\n",
       "      <td>Troy Hill</td>\n",
       "      <td>05458</td>\n",
       "      <td>46</td>\n",
       "      <td>0.0084279956027849</td>\n",
       "      <td>4</td>\n",
       "      <td>46:4</td>\n",
       "      <td>0.000732869182850861</td>\n",
       "      <td>None</td>\n",
       "    </tr>\n",
       "    <tr>\n",
       "      <th>4</th>\n",
       "      <td>15212</td>\n",
       "      <td>Perry South</td>\n",
       "      <td>03765</td>\n",
       "      <td>09</td>\n",
       "      <td>0.00239043824701195</td>\n",
       "      <td>3</td>\n",
       "      <td>9:3</td>\n",
       "      <td>0.000796812749003984</td>\n",
       "      <td>None</td>\n",
       "    </tr>\n",
       "  </tbody>\n",
       "</table>\n",
       "</div>"
      ],
      "text/plain": [
       "  ZIP Code         Neighborhood Population Number Fast Food  \\\n",
       "2    15206         East Liberty      05869               11   \n",
       "3    15210            St. Clair      03994               11   \n",
       "7    15217  Squirrel Hill South      15317               20   \n",
       "9    15222            Troy Hill      05458               46   \n",
       "4    15212          Perry South      03765               09   \n",
       "\n",
       "  Fast Food Per Capita Number Grocery Stores Fast Food/Grocery Ratio  \\\n",
       "2  0.00711974110032363                     4                    11:4   \n",
       "3  0.00275413119679519                     4                    11:4   \n",
       "7  0.00130573872168179                     4                    20:4   \n",
       "9   0.0084279956027849                     4                    46:4   \n",
       "4  0.00239043824701195                     3                     9:3   \n",
       "\n",
       "  Grocery Store Per Capita geometry  \n",
       "2      0.00258899676375405     None  \n",
       "3      0.00100150225338007     None  \n",
       "7     0.000261147744336358     None  \n",
       "9     0.000732869182850861     None  \n",
       "4     0.000796812749003984     None  "
      ]
     },
     "execution_count": 1,
     "metadata": {},
     "output_type": "execute_result"
    }
   ],
   "source": [
    "#top 5 Grocery Stores\n",
    "import geopandas as gpd\n",
    "csv = gpd.read_file('13 neighborhoods.csv')\n",
    "csv.sort_values(by=['Number Grocery Stores'], ascending=False).head(5)"
   ]
  },
  {
   "cell_type": "markdown",
   "metadata": {},
   "source": [
    "*Least - Manchester*"
   ]
  },
  {
   "cell_type": "code",
   "execution_count": 2,
   "metadata": {},
   "outputs": [
    {
     "data": {
      "text/html": [
       "<div>\n",
       "<style scoped>\n",
       "    .dataframe tbody tr th:only-of-type {\n",
       "        vertical-align: middle;\n",
       "    }\n",
       "\n",
       "    .dataframe tbody tr th {\n",
       "        vertical-align: top;\n",
       "    }\n",
       "\n",
       "    .dataframe thead th {\n",
       "        text-align: right;\n",
       "    }\n",
       "</style>\n",
       "<table border=\"1\" class=\"dataframe\">\n",
       "  <thead>\n",
       "    <tr style=\"text-align: right;\">\n",
       "      <th></th>\n",
       "      <th>ZIP Code</th>\n",
       "      <th>Neighborhood</th>\n",
       "      <th>Population</th>\n",
       "      <th>Number Fast Food</th>\n",
       "      <th>Fast Food Per Capita</th>\n",
       "      <th>Number Grocery Stores</th>\n",
       "      <th>Fast Food/Grocery Ratio</th>\n",
       "      <th>Grocery Store Per Capita</th>\n",
       "      <th>geometry</th>\n",
       "    </tr>\n",
       "  </thead>\n",
       "  <tbody>\n",
       "    <tr>\n",
       "      <th>12</th>\n",
       "      <td>15233</td>\n",
       "      <td>Manchester</td>\n",
       "      <td>02130</td>\n",
       "      <td>04</td>\n",
       "      <td>0.00187793427230047</td>\n",
       "      <td>0</td>\n",
       "      <td>4:0</td>\n",
       "      <td>0</td>\n",
       "      <td>None</td>\n",
       "    </tr>\n",
       "    <tr>\n",
       "      <th>0</th>\n",
       "      <td>15201</td>\n",
       "      <td>Central Lawrenceville</td>\n",
       "      <td>04720</td>\n",
       "      <td>05</td>\n",
       "      <td>0.00105932203389831</td>\n",
       "      <td>1</td>\n",
       "      <td>5:1</td>\n",
       "      <td>0.000211864406779661</td>\n",
       "      <td>None</td>\n",
       "    </tr>\n",
       "    <tr>\n",
       "      <th>8</th>\n",
       "      <td>15219</td>\n",
       "      <td>Central Business District</td>\n",
       "      <td>05477</td>\n",
       "      <td>27</td>\n",
       "      <td>0.00492970604345445</td>\n",
       "      <td>1</td>\n",
       "      <td>27:1</td>\n",
       "      <td>0.000182581705313128</td>\n",
       "      <td>None</td>\n",
       "    </tr>\n",
       "    <tr>\n",
       "      <th>11</th>\n",
       "      <td>15232</td>\n",
       "      <td>Shadyside</td>\n",
       "      <td>15317</td>\n",
       "      <td>12</td>\n",
       "      <td>0.000783443233009075</td>\n",
       "      <td>1</td>\n",
       "      <td>12:1</td>\n",
       "      <td>6.52869360840896E-05</td>\n",
       "      <td>None</td>\n",
       "    </tr>\n",
       "    <tr>\n",
       "      <th>1</th>\n",
       "      <td>15203</td>\n",
       "      <td>South Side Slopes</td>\n",
       "      <td>04327</td>\n",
       "      <td>19</td>\n",
       "      <td>0.00439103304830136</td>\n",
       "      <td>2</td>\n",
       "      <td>19:2</td>\n",
       "      <td>0.000462214005084354</td>\n",
       "      <td>None</td>\n",
       "    </tr>\n",
       "  </tbody>\n",
       "</table>\n",
       "</div>"
      ],
      "text/plain": [
       "   ZIP Code               Neighborhood Population Number Fast Food  \\\n",
       "12    15233                 Manchester      02130               04   \n",
       "0     15201      Central Lawrenceville      04720               05   \n",
       "8     15219  Central Business District      05477               27   \n",
       "11    15232                  Shadyside      15317               12   \n",
       "1     15203          South Side Slopes      04327               19   \n",
       "\n",
       "    Fast Food Per Capita Number Grocery Stores Fast Food/Grocery Ratio  \\\n",
       "12   0.00187793427230047                     0                     4:0   \n",
       "0    0.00105932203389831                     1                     5:1   \n",
       "8    0.00492970604345445                     1                    27:1   \n",
       "11  0.000783443233009075                     1                    12:1   \n",
       "1    0.00439103304830136                     2                    19:2   \n",
       "\n",
       "   Grocery Store Per Capita geometry  \n",
       "12                        0     None  \n",
       "0      0.000211864406779661     None  \n",
       "8      0.000182581705313128     None  \n",
       "11     6.52869360840896E-05     None  \n",
       "1      0.000462214005084354     None  "
      ]
     },
     "execution_count": 2,
     "metadata": {},
     "output_type": "execute_result"
    }
   ],
   "source": [
    "#bottom 5 Grocery Stores\n",
    "import geopandas as gpd\n",
    "csv = gpd.read_file('13 neighborhoods.csv')\n",
    "csv.sort_values(by=['Number Grocery Stores'], ascending=True).head(5)"
   ]
  },
  {
   "cell_type": "markdown",
   "metadata": {},
   "source": [
    "--------------------------------"
   ]
  },
  {
   "cell_type": "markdown",
   "metadata": {},
   "source": [
    "## Fast Food  \n",
    "Fast food establishments are not inherently a bad thing; however, when all a person has access to to eat is a fast food restaurant, it can turn into a problem of unhealthy eating. This is why grocery stores in communities are so vital, because they allow for more options in food choices. We counted fast food establishments as negative towards the score a neighborhood got. The more fast food restaurants a neighborhood had, and the less grocery stores it had, the lower it scored.\n"
   ]
  },
  {
   "cell_type": "markdown",
   "metadata": {},
   "source": [
    "*Most - Troy Hill*"
   ]
  },
  {
   "cell_type": "code",
   "execution_count": 3,
   "metadata": {},
   "outputs": [
    {
     "data": {
      "text/html": [
       "<div>\n",
       "<style scoped>\n",
       "    .dataframe tbody tr th:only-of-type {\n",
       "        vertical-align: middle;\n",
       "    }\n",
       "\n",
       "    .dataframe tbody tr th {\n",
       "        vertical-align: top;\n",
       "    }\n",
       "\n",
       "    .dataframe thead th {\n",
       "        text-align: right;\n",
       "    }\n",
       "</style>\n",
       "<table border=\"1\" class=\"dataframe\">\n",
       "  <thead>\n",
       "    <tr style=\"text-align: right;\">\n",
       "      <th></th>\n",
       "      <th>ZIP Code</th>\n",
       "      <th>Neighborhood</th>\n",
       "      <th>Population</th>\n",
       "      <th>Number Fast Food</th>\n",
       "      <th>Fast Food Per Capita</th>\n",
       "      <th>Number Grocery Stores</th>\n",
       "      <th>Fast Food/Grocery Ratio</th>\n",
       "      <th>Grocery Store Per Capita</th>\n",
       "      <th>geometry</th>\n",
       "    </tr>\n",
       "  </thead>\n",
       "  <tbody>\n",
       "    <tr>\n",
       "      <th>9</th>\n",
       "      <td>15222</td>\n",
       "      <td>Troy Hill</td>\n",
       "      <td>05458</td>\n",
       "      <td>46</td>\n",
       "      <td>0.0084279956027849</td>\n",
       "      <td>4</td>\n",
       "      <td>46:4</td>\n",
       "      <td>0.000732869182850861</td>\n",
       "      <td>None</td>\n",
       "    </tr>\n",
       "    <tr>\n",
       "      <th>5</th>\n",
       "      <td>15213</td>\n",
       "      <td>North Oakland</td>\n",
       "      <td>10691</td>\n",
       "      <td>38</td>\n",
       "      <td>0.00355439154428959</td>\n",
       "      <td>3</td>\n",
       "      <td>38:3</td>\n",
       "      <td>0.000280609858759704</td>\n",
       "      <td>None</td>\n",
       "    </tr>\n",
       "    <tr>\n",
       "      <th>8</th>\n",
       "      <td>15219</td>\n",
       "      <td>Central Business District</td>\n",
       "      <td>05477</td>\n",
       "      <td>27</td>\n",
       "      <td>0.00492970604345445</td>\n",
       "      <td>1</td>\n",
       "      <td>27:1</td>\n",
       "      <td>0.000182581705313128</td>\n",
       "      <td>None</td>\n",
       "    </tr>\n",
       "    <tr>\n",
       "      <th>7</th>\n",
       "      <td>15217</td>\n",
       "      <td>Squirrel Hill South</td>\n",
       "      <td>15317</td>\n",
       "      <td>20</td>\n",
       "      <td>0.00130573872168179</td>\n",
       "      <td>4</td>\n",
       "      <td>20:4</td>\n",
       "      <td>0.000261147744336358</td>\n",
       "      <td>None</td>\n",
       "    </tr>\n",
       "    <tr>\n",
       "      <th>1</th>\n",
       "      <td>15203</td>\n",
       "      <td>South Side Slopes</td>\n",
       "      <td>04327</td>\n",
       "      <td>19</td>\n",
       "      <td>0.00439103304830136</td>\n",
       "      <td>2</td>\n",
       "      <td>19:2</td>\n",
       "      <td>0.000462214005084354</td>\n",
       "      <td>None</td>\n",
       "    </tr>\n",
       "  </tbody>\n",
       "</table>\n",
       "</div>"
      ],
      "text/plain": [
       "  ZIP Code               Neighborhood Population Number Fast Food  \\\n",
       "9    15222                  Troy Hill      05458               46   \n",
       "5    15213              North Oakland      10691               38   \n",
       "8    15219  Central Business District      05477               27   \n",
       "7    15217        Squirrel Hill South      15317               20   \n",
       "1    15203          South Side Slopes      04327               19   \n",
       "\n",
       "  Fast Food Per Capita Number Grocery Stores Fast Food/Grocery Ratio  \\\n",
       "9   0.0084279956027849                     4                    46:4   \n",
       "5  0.00355439154428959                     3                    38:3   \n",
       "8  0.00492970604345445                     1                    27:1   \n",
       "7  0.00130573872168179                     4                    20:4   \n",
       "1  0.00439103304830136                     2                    19:2   \n",
       "\n",
       "  Grocery Store Per Capita geometry  \n",
       "9     0.000732869182850861     None  \n",
       "5     0.000280609858759704     None  \n",
       "8     0.000182581705313128     None  \n",
       "7     0.000261147744336358     None  \n",
       "1     0.000462214005084354     None  "
      ]
     },
     "execution_count": 3,
     "metadata": {},
     "output_type": "execute_result"
    }
   ],
   "source": [
    "#top 5 Fast Food Stores\n",
    "import geopandas as gpd\n",
    "csv = gpd.read_file('13 neighborhoods.csv')\n",
    "csv.sort_values(by=['Number Fast Food'], ascending=False).head(5)"
   ]
  },
  {
   "cell_type": "markdown",
   "metadata": {},
   "source": [
    "*Least - Bloomfield*"
   ]
  },
  {
   "cell_type": "code",
   "execution_count": 4,
   "metadata": {},
   "outputs": [
    {
     "data": {
      "text/html": [
       "<div>\n",
       "<style scoped>\n",
       "    .dataframe tbody tr th:only-of-type {\n",
       "        vertical-align: middle;\n",
       "    }\n",
       "\n",
       "    .dataframe tbody tr th {\n",
       "        vertical-align: top;\n",
       "    }\n",
       "\n",
       "    .dataframe thead th {\n",
       "        text-align: right;\n",
       "    }\n",
       "</style>\n",
       "<table border=\"1\" class=\"dataframe\">\n",
       "  <thead>\n",
       "    <tr style=\"text-align: right;\">\n",
       "      <th></th>\n",
       "      <th>ZIP Code</th>\n",
       "      <th>Neighborhood</th>\n",
       "      <th>Population</th>\n",
       "      <th>Number Fast Food</th>\n",
       "      <th>Fast Food Per Capita</th>\n",
       "      <th>Number Grocery Stores</th>\n",
       "      <th>Fast Food/Grocery Ratio</th>\n",
       "      <th>Grocery Store Per Capita</th>\n",
       "      <th>geometry</th>\n",
       "    </tr>\n",
       "  </thead>\n",
       "  <tbody>\n",
       "    <tr>\n",
       "      <th>12</th>\n",
       "      <td>15233</td>\n",
       "      <td>Manchester</td>\n",
       "      <td>02130</td>\n",
       "      <td>04</td>\n",
       "      <td>0.00187793427230047</td>\n",
       "      <td>0</td>\n",
       "      <td>4:0</td>\n",
       "      <td>0</td>\n",
       "      <td>None</td>\n",
       "    </tr>\n",
       "    <tr>\n",
       "      <th>0</th>\n",
       "      <td>15201</td>\n",
       "      <td>Central Lawrenceville</td>\n",
       "      <td>04720</td>\n",
       "      <td>05</td>\n",
       "      <td>0.00105932203389831</td>\n",
       "      <td>1</td>\n",
       "      <td>5:1</td>\n",
       "      <td>0.000211864406779661</td>\n",
       "      <td>None</td>\n",
       "    </tr>\n",
       "    <tr>\n",
       "      <th>10</th>\n",
       "      <td>15224</td>\n",
       "      <td>Bloomfield</td>\n",
       "      <td>08665</td>\n",
       "      <td>06</td>\n",
       "      <td>0.000692440854010387</td>\n",
       "      <td>3</td>\n",
       "      <td>6:3</td>\n",
       "      <td>0.000346220427005193</td>\n",
       "      <td>None</td>\n",
       "    </tr>\n",
       "    <tr>\n",
       "      <th>4</th>\n",
       "      <td>15212</td>\n",
       "      <td>Perry South</td>\n",
       "      <td>03765</td>\n",
       "      <td>09</td>\n",
       "      <td>0.00239043824701195</td>\n",
       "      <td>3</td>\n",
       "      <td>9:3</td>\n",
       "      <td>0.000796812749003984</td>\n",
       "      <td>None</td>\n",
       "    </tr>\n",
       "    <tr>\n",
       "      <th>2</th>\n",
       "      <td>15206</td>\n",
       "      <td>East Liberty</td>\n",
       "      <td>05869</td>\n",
       "      <td>11</td>\n",
       "      <td>0.00711974110032363</td>\n",
       "      <td>4</td>\n",
       "      <td>11:4</td>\n",
       "      <td>0.00258899676375405</td>\n",
       "      <td>None</td>\n",
       "    </tr>\n",
       "  </tbody>\n",
       "</table>\n",
       "</div>"
      ],
      "text/plain": [
       "   ZIP Code           Neighborhood Population Number Fast Food  \\\n",
       "12    15233             Manchester      02130               04   \n",
       "0     15201  Central Lawrenceville      04720               05   \n",
       "10    15224             Bloomfield      08665               06   \n",
       "4     15212            Perry South      03765               09   \n",
       "2     15206           East Liberty      05869               11   \n",
       "\n",
       "    Fast Food Per Capita Number Grocery Stores Fast Food/Grocery Ratio  \\\n",
       "12   0.00187793427230047                     0                     4:0   \n",
       "0    0.00105932203389831                     1                     5:1   \n",
       "10  0.000692440854010387                     3                     6:3   \n",
       "4    0.00239043824701195                     3                     9:3   \n",
       "2    0.00711974110032363                     4                    11:4   \n",
       "\n",
       "   Grocery Store Per Capita geometry  \n",
       "12                        0     None  \n",
       "0      0.000211864406779661     None  \n",
       "10     0.000346220427005193     None  \n",
       "4      0.000796812749003984     None  \n",
       "2       0.00258899676375405     None  "
      ]
     },
     "execution_count": 4,
     "metadata": {},
     "output_type": "execute_result"
    }
   ],
   "source": [
    "#top 5 Fast Food Stores\n",
    "import geopandas as gpd\n",
    "csv = gpd.read_file('13 neighborhoods.csv')\n",
    "csv.sort_values(by=['Number Fast Food'], ascending=True).head(5)"
   ]
  },
  {
   "cell_type": "markdown",
   "metadata": {},
   "source": [
    "--------------------------------"
   ]
  },
  {
   "cell_type": "markdown",
   "metadata": {},
   "source": [
    "## Population\n",
    "Population was essential to our data analysis. By taking the population of a certain neighborhood and dividing it by the other two metrics independently, we were able to determine a ‘per capita’ ratio of both grocery stores and fast food establishments. We determined an establishment is most viable when it is easily accessible to the population that directly serves. This is why we used the population metric to look at how these establishments can affect their communities.\n",
    "\n",
    "*Most - Squirrel Hill South*"
   ]
  },
  {
   "cell_type": "code",
   "execution_count": 5,
   "metadata": {},
   "outputs": [
    {
     "data": {
      "text/html": [
       "<div>\n",
       "<style scoped>\n",
       "    .dataframe tbody tr th:only-of-type {\n",
       "        vertical-align: middle;\n",
       "    }\n",
       "\n",
       "    .dataframe tbody tr th {\n",
       "        vertical-align: top;\n",
       "    }\n",
       "\n",
       "    .dataframe thead th {\n",
       "        text-align: right;\n",
       "    }\n",
       "</style>\n",
       "<table border=\"1\" class=\"dataframe\">\n",
       "  <thead>\n",
       "    <tr style=\"text-align: right;\">\n",
       "      <th></th>\n",
       "      <th>ZIP Code</th>\n",
       "      <th>Neighborhood</th>\n",
       "      <th>Population</th>\n",
       "      <th>Number Fast Food</th>\n",
       "      <th>Fast Food Per Capita</th>\n",
       "      <th>Number Grocery Stores</th>\n",
       "      <th>Fast Food/Grocery Ratio</th>\n",
       "      <th>Grocery Store Per Capita</th>\n",
       "      <th>geometry</th>\n",
       "    </tr>\n",
       "  </thead>\n",
       "  <tbody>\n",
       "    <tr>\n",
       "      <th>7</th>\n",
       "      <td>15217</td>\n",
       "      <td>Squirrel Hill South</td>\n",
       "      <td>15317</td>\n",
       "      <td>20</td>\n",
       "      <td>0.00130573872168179</td>\n",
       "      <td>4</td>\n",
       "      <td>20:4</td>\n",
       "      <td>0.000261147744336358</td>\n",
       "      <td>None</td>\n",
       "    </tr>\n",
       "    <tr>\n",
       "      <th>11</th>\n",
       "      <td>15232</td>\n",
       "      <td>Shadyside</td>\n",
       "      <td>15317</td>\n",
       "      <td>12</td>\n",
       "      <td>0.000783443233009075</td>\n",
       "      <td>1</td>\n",
       "      <td>12:1</td>\n",
       "      <td>6.52869360840896E-05</td>\n",
       "      <td>None</td>\n",
       "    </tr>\n",
       "    <tr>\n",
       "      <th>5</th>\n",
       "      <td>15213</td>\n",
       "      <td>North Oakland</td>\n",
       "      <td>10691</td>\n",
       "      <td>38</td>\n",
       "      <td>0.00355439154428959</td>\n",
       "      <td>3</td>\n",
       "      <td>38:3</td>\n",
       "      <td>0.000280609858759704</td>\n",
       "      <td>None</td>\n",
       "    </tr>\n",
       "    <tr>\n",
       "      <th>10</th>\n",
       "      <td>15224</td>\n",
       "      <td>Bloomfield</td>\n",
       "      <td>08665</td>\n",
       "      <td>06</td>\n",
       "      <td>0.000692440854010387</td>\n",
       "      <td>3</td>\n",
       "      <td>6:3</td>\n",
       "      <td>0.000346220427005193</td>\n",
       "      <td>None</td>\n",
       "    </tr>\n",
       "    <tr>\n",
       "      <th>2</th>\n",
       "      <td>15206</td>\n",
       "      <td>East Liberty</td>\n",
       "      <td>05869</td>\n",
       "      <td>11</td>\n",
       "      <td>0.00711974110032363</td>\n",
       "      <td>4</td>\n",
       "      <td>11:4</td>\n",
       "      <td>0.00258899676375405</td>\n",
       "      <td>None</td>\n",
       "    </tr>\n",
       "  </tbody>\n",
       "</table>\n",
       "</div>"
      ],
      "text/plain": [
       "   ZIP Code         Neighborhood Population Number Fast Food  \\\n",
       "7     15217  Squirrel Hill South      15317               20   \n",
       "11    15232            Shadyside      15317               12   \n",
       "5     15213        North Oakland      10691               38   \n",
       "10    15224           Bloomfield      08665               06   \n",
       "2     15206         East Liberty      05869               11   \n",
       "\n",
       "    Fast Food Per Capita Number Grocery Stores Fast Food/Grocery Ratio  \\\n",
       "7    0.00130573872168179                     4                    20:4   \n",
       "11  0.000783443233009075                     1                    12:1   \n",
       "5    0.00355439154428959                     3                    38:3   \n",
       "10  0.000692440854010387                     3                     6:3   \n",
       "2    0.00711974110032363                     4                    11:4   \n",
       "\n",
       "   Grocery Store Per Capita geometry  \n",
       "7      0.000261147744336358     None  \n",
       "11     6.52869360840896E-05     None  \n",
       "5      0.000280609858759704     None  \n",
       "10     0.000346220427005193     None  \n",
       "2       0.00258899676375405     None  "
      ]
     },
     "execution_count": 5,
     "metadata": {},
     "output_type": "execute_result"
    }
   ],
   "source": [
    "#top 5 population\n",
    "import geopandas as gpd\n",
    "csv = gpd.read_file('13 neighborhoods.csv')\n",
    "csv.sort_values(by=['Population'], ascending=False).head(5)"
   ]
  },
  {
   "cell_type": "markdown",
   "metadata": {},
   "source": [
    "*Least - Manchester*"
   ]
  },
  {
   "cell_type": "code",
   "execution_count": 6,
   "metadata": {},
   "outputs": [
    {
     "data": {
      "text/html": [
       "<div>\n",
       "<style scoped>\n",
       "    .dataframe tbody tr th:only-of-type {\n",
       "        vertical-align: middle;\n",
       "    }\n",
       "\n",
       "    .dataframe tbody tr th {\n",
       "        vertical-align: top;\n",
       "    }\n",
       "\n",
       "    .dataframe thead th {\n",
       "        text-align: right;\n",
       "    }\n",
       "</style>\n",
       "<table border=\"1\" class=\"dataframe\">\n",
       "  <thead>\n",
       "    <tr style=\"text-align: right;\">\n",
       "      <th></th>\n",
       "      <th>ZIP Code</th>\n",
       "      <th>Neighborhood</th>\n",
       "      <th>Population</th>\n",
       "      <th>Number Fast Food</th>\n",
       "      <th>Fast Food Per Capita</th>\n",
       "      <th>Number Grocery Stores</th>\n",
       "      <th>Fast Food/Grocery Ratio</th>\n",
       "      <th>Grocery Store Per Capita</th>\n",
       "      <th>geometry</th>\n",
       "    </tr>\n",
       "  </thead>\n",
       "  <tbody>\n",
       "    <tr>\n",
       "      <th>12</th>\n",
       "      <td>15233</td>\n",
       "      <td>Manchester</td>\n",
       "      <td>02130</td>\n",
       "      <td>04</td>\n",
       "      <td>0.00187793427230047</td>\n",
       "      <td>0</td>\n",
       "      <td>4:0</td>\n",
       "      <td>0</td>\n",
       "      <td>None</td>\n",
       "    </tr>\n",
       "    <tr>\n",
       "      <th>4</th>\n",
       "      <td>15212</td>\n",
       "      <td>Perry South</td>\n",
       "      <td>03765</td>\n",
       "      <td>09</td>\n",
       "      <td>0.00239043824701195</td>\n",
       "      <td>3</td>\n",
       "      <td>9:3</td>\n",
       "      <td>0.000796812749003984</td>\n",
       "      <td>None</td>\n",
       "    </tr>\n",
       "    <tr>\n",
       "      <th>3</th>\n",
       "      <td>15210</td>\n",
       "      <td>St. Clair</td>\n",
       "      <td>03994</td>\n",
       "      <td>11</td>\n",
       "      <td>0.00275413119679519</td>\n",
       "      <td>4</td>\n",
       "      <td>11:4</td>\n",
       "      <td>0.00100150225338007</td>\n",
       "      <td>None</td>\n",
       "    </tr>\n",
       "    <tr>\n",
       "      <th>6</th>\n",
       "      <td>15216</td>\n",
       "      <td>Banksville</td>\n",
       "      <td>04127</td>\n",
       "      <td>11</td>\n",
       "      <td>0.00266537436394475</td>\n",
       "      <td>2</td>\n",
       "      <td>11:2</td>\n",
       "      <td>0.000484613520717228</td>\n",
       "      <td>None</td>\n",
       "    </tr>\n",
       "    <tr>\n",
       "      <th>1</th>\n",
       "      <td>15203</td>\n",
       "      <td>South Side Slopes</td>\n",
       "      <td>04327</td>\n",
       "      <td>19</td>\n",
       "      <td>0.00439103304830136</td>\n",
       "      <td>2</td>\n",
       "      <td>19:2</td>\n",
       "      <td>0.000462214005084354</td>\n",
       "      <td>None</td>\n",
       "    </tr>\n",
       "  </tbody>\n",
       "</table>\n",
       "</div>"
      ],
      "text/plain": [
       "   ZIP Code       Neighborhood Population Number Fast Food  \\\n",
       "12    15233         Manchester      02130               04   \n",
       "4     15212        Perry South      03765               09   \n",
       "3     15210          St. Clair      03994               11   \n",
       "6     15216         Banksville      04127               11   \n",
       "1     15203  South Side Slopes      04327               19   \n",
       "\n",
       "   Fast Food Per Capita Number Grocery Stores Fast Food/Grocery Ratio  \\\n",
       "12  0.00187793427230047                     0                     4:0   \n",
       "4   0.00239043824701195                     3                     9:3   \n",
       "3   0.00275413119679519                     4                    11:4   \n",
       "6   0.00266537436394475                     2                    11:2   \n",
       "1   0.00439103304830136                     2                    19:2   \n",
       "\n",
       "   Grocery Store Per Capita geometry  \n",
       "12                        0     None  \n",
       "4      0.000796812749003984     None  \n",
       "3       0.00100150225338007     None  \n",
       "6      0.000484613520717228     None  \n",
       "1      0.000462214005084354     None  "
      ]
     },
     "execution_count": 6,
     "metadata": {},
     "output_type": "execute_result"
    }
   ],
   "source": [
    "#bottom 5 population\n",
    "import geopandas as gpd\n",
    "csv = gpd.read_file('13 neighborhoods.csv')\n",
    "csv.sort_values(by=['Population'], ascending=True).head(5)"
   ]
  },
  {
   "cell_type": "markdown",
   "metadata": {},
   "source": [
    "To find the amount of fast food locations in a neighborhood, we corresponded the zipcode to a neighborhood, and make a dictionary. This code iterates through the data, and creates that dictionary and prints out the zip code with the most fast food establishments."
   ]
  },
  {
   "cell_type": "code",
   "execution_count": 7,
   "metadata": {},
   "outputs": [
    {
     "name": "stdout",
     "output_type": "stream",
     "text": [
      "Max zip code: 15146 value: 51\n"
     ]
    }
   ],
   "source": [
    "import csv\n",
    "with open('fastfood.csv', 'r', newline='') as csvfile:\n",
    "    reader = csv.DictReader(csvfile)\n",
    "    ocurrences = {}\n",
    "    for row in reader:\n",
    "        if row['ZIP Code'] in ocurrences.keys():\n",
    "            ocurrences[row['ZIP Code']] = ocurrences[row['ZIP Code']] + 1\n",
    "        else:\n",
    "            ocurrences[row['ZIP Code']] = 1\n",
    "    max_val = max(ocurrences.values())\n",
    "    max_key = max(ocurrences, key=ocurrences.get)\n",
    "    #for key in ocurrences.keys(): \n",
    "        #print(\"Zip code:\", key, \"Number of ocurrences:\", ocurrences[key])\n",
    "    \"\"\"The section hashtaged out would print out the amount of fast food establishments per zipcode in the list\"\"\"\n",
    "    \n",
    "    print(\"Max zip code:\", max_key, \"value:\", max_val)"
   ]
  },
  {
   "cell_type": "markdown",
   "metadata": {},
   "source": [
    "To find the amount of grocery store locations in a neighborhood, we corresponded the zipcode to a neighborhood, and make a dictionary. This code iterates through the data, and creates that dictionary and prints out the zip code with the most fast food establishments."
   ]
  },
  {
   "cell_type": "code",
   "execution_count": 8,
   "metadata": {},
   "outputs": [
    {
     "name": "stdout",
     "output_type": "stream",
     "text": [
      "Max zip code: 15237 value: 10\n"
     ]
    }
   ],
   "source": [
    "import csv\n",
    "with open('supermarket.csv', 'r', newline='') as csvfile:\n",
    "    reader = csv.DictReader(csvfile)\n",
    "    ocurrences = {}\n",
    "    for row in reader:\n",
    "        if row['Zip'] in ocurrences.keys():\n",
    "            ocurrences[row['Zip']] = ocurrences[row['Zip']] + 1\n",
    "        else:\n",
    "            ocurrences[row['Zip']] = 1\n",
    "    max_val = max(ocurrences.values())\n",
    "    max_key = max(ocurrences, key=ocurrences.get)\n",
    "    #for key in ocurrences.keys():\n",
    "        #print(\"Zip code:\", key, \"Number of ocurrences:\", ocurrences[key])\n",
    "    \"\"\"The section hashtaged out would print out the amount of grocery stores per zipcode in the list\"\"\"\n",
    "    \n",
    "    print(\"Max zip code:\", max_key, \"value:\", max_val)"
   ]
  },
  {
   "cell_type": "markdown",
   "metadata": {},
   "source": [
    "--------------------------------"
   ]
  },
  {
   "cell_type": "markdown",
   "metadata": {},
   "source": [
    "# The Best Neighborhood\n",
    "\n",
    "## Creating a weighted scale\n",
    "To create a score for each neighborhood, we used two metrics (fast food establishments per captia and grocery stores per capita). We used the population data and the data for the amount of locations per neighborhood to get the per captia data. We divided the locations by the population to get the per captia data. We made a score from 0 to 1 for each metric (1 being the best, 0 being the worse). From the per capita metrics, we generated a normalized score between 0 and 1. For the per captia grocery stores score, their normalize score added to their total score. For the per captia fast food score, this normalized score subtracted from their score. We believe that easier access to fast food is a negative for food accessibility, and in turn, easier access to grocery stores is a positive. From the sum of these two numbers, each neighborhood got a score, the higher the score, the better the neighborhood.\n",
    "\n",
    "## Finding the scores\n",
    "We found the the per captia values for grocery stores and fast food locations for each neighborhood. We found the maxmium value and divided all the neighborhood values by that max value to get a normalized score from 0 to 1\n",
    "\n",
    "## Getting the total scores\n",
    "Because fast food stores are negative for food avaliblity, it subtracted from the total score. Grocery stores are positive for foood availability so it added to the total score. The sum of these was the total score, and the higher the score, the better."
   ]
  },
  {
   "cell_type": "markdown",
   "metadata": {},
   "source": [
    "# Finding Fast Food Score\n",
    "First I imported the modules I needed, then created a last of 1000 colors that gradient from green to yellow, and used that to fill in each neighborhood according to their scors."
   ]
  },
  {
   "cell_type": "code",
   "execution_count": null,
   "metadata": {},
   "outputs": [],
   "source": [
    "import geopandas as gpd\n",
    "import matplotlib.pyplot as plt\n",
    "\n",
    "try:\n",
    "    from colour import Color\n",
    "except:\n",
    "    print(\"make sure to do pip install colour. you also need to restart your kernel after you install the pacakge\")\n",
    "    quit()\n",
    "\n",
    "#create list of 1000 colors that gradient from green to yellow, the more yellow, the higher the score\n",
    "green_yellow = list((Color(\"green\").range_to(Color(\"yellow\"),1000)))\n",
    "colors = green_yellow"
   ]
  },
  {
   "cell_type": "markdown",
   "metadata": {},
   "source": [
    "I then imported all the data I need, and made a list of the intersection of data in which we had geographic, fast food, and grocery store data."
   ]
  },
  {
   "cell_type": "code",
   "execution_count": null,
   "metadata": {},
   "outputs": [],
   "source": [
    "#importing data\n",
    "neighborhoodPitt = gpd.read_file('pittsburghpaneighborhoods-.geojson')[\"geometry\"]\n",
    "neighborhoodnamePitt = gpd.read_file('pittsburghpaneighborhoods-.geojson')[\"hood\"]\n",
    "csv = gpd.read_file('bigideas_finalprojdata.csv')\n",
    "\n",
    "\n",
    "data_list = [\"Banksville\", \"Bloomfield\", \"Central Business District\", \"Central Lawrenceville\", \"East Liberty\", \"Manchester\", \"North Oakland\", \"Perry South\", \"Shadyside\", \"South Side Slopes\", \"Squirrel Hill South\", \"St. Clair\", \"Troy Hill\"]"
   ]
  },
  {
   "cell_type": "markdown",
   "metadata": {},
   "source": [
    "I then found the min and max values for the fastfood per capita, and made a for loop to go through our data and find the min and max."
   ]
  },
  {
   "cell_type": "code",
   "execution_count": null,
   "metadata": {},
   "outputs": [],
   "source": [
    "#find min and max values for score normalization\n",
    "maxFFCaptia = 0\n",
    "minFFCaptia = 10000\n",
    "for i in range(len(csv[\"Fast Food Per Capita\"])):\n",
    "    if eval(csv[\"Fast Food Per Capita\"][i]) < minFFCaptia:\n",
    "        minFFCaptia = eval(csv[\"Fast Food Per Capita\"][i])\n",
    "    if eval(csv[\"Fast Food Per Capita\"][i]) > maxFFCaptia:\n",
    "        maxFFCaptia = eval(csv[\"Fast Food Per Capita\"][i])"
   ]
  },
  {
   "cell_type": "markdown",
   "metadata": {},
   "source": [
    "I made a loop that when through the geograhpic neighborhood data, checked if there was data for it, if there was, it found a normalized score between 0 and 1, and used that to find its\n",
    "corresponing color in the color list array to use as the neighborhoods fill color, then plotted the neighrbood."
   ]
  },
  {
   "cell_type": "code",
   "execution_count": 2,
   "metadata": {},
   "outputs": [
    {
     "name": "stdout",
     "output_type": "stream",
     "text": [
      "North Oakland: 0.394833660711502\n",
      "East Liberty: 0.7908845738942833\n",
      "Manchester: 0.2086071987480439\n",
      "Central Business District: 0.5476081796603985\n",
      "South Side Slopes: 0.4877705877821428\n",
      "Bloomfield: 0.07691863819965383\n",
      "Banksville: 0.296078668928196\n",
      "Central Lawrenceville: 0.11767302259887062\n",
      "Troy Hill: 0.9362098448760228\n",
      "St. Clair: 0.30593807377733234\n",
      "Shadyside: 0.08702748580009143\n",
      "Squirrel Hill South: 0.14504580966681885\n",
      "Perry South: 0.26553784860557744\n"
     ]
    },
    {
     "data": {
      "image/png": "[encoded data removed]",
      "text/plain": [
       "<Figure size 432x288 with 1 Axes>"
      ]
     },
     "metadata": {
      "needs_background": "light"
     },
     "output_type": "display_data"
    }
   ],
   "source": [
    "for i in range(len(neighborhoodPitt)):\n",
    "    try:\n",
    "        if (neighborhoodnamePitt[i]in data_list) == True:\n",
    "            shape = neighborhoodPitt[i]\n",
    "            hoodData = csv.loc[csv['Neighborhood'] == neighborhoodnamePitt[i]]\n",
    "            weight = float(hoodData[\"Fast Food Per Capita\"]) / maxFFCaptia #find the fast food locations per captia and divides it by the max fast food per captia number to get a normalized score\n",
    "            print(str(neighborhoodnamePitt[i]) + \": \" + (str(weight)))\n",
    "            fill_color = str(colors[int(weight * 1000) - 1]).upper() #chooses color of neighborhood based on normalized score\n",
    "            \n",
    "            #plots nieghborhood\n",
    "            x,y = shape.exterior.xy\n",
    "            plt.plot(x, y, linestyle=\"None\")\n",
    "            plt.fill(x, y, color=fill_color)\n",
    "        else:\n",
    "            #plots neighborhood in gray is no data is available\n",
    "            shape = neighborhoodPitt[i]\n",
    "            x,y = shape.exterior.xy\n",
    "            plt.plot(x, y, linestyle=\"None\")\n",
    "            plt.fill(x, y, color=\"#006600\")\n",
    "\n",
    "    except:\n",
    "        for x in range(len(neighborhoodPitt[i])):\n",
    "            #plots neighborhood in gray is no data is available\n",
    "            shape = neighborhoodPitt[i][x]\n",
    "            fill_color = str(colors[int(weight * 1000) - 1]).upper()\n",
    "            x,y = shape.exterior.xy\n",
    "            plt.plot(x, y, linestyle=\"None\")\n",
    "            plt.fill(x, y, color=\"#006600\")\n",
    "\n",
    "plt.show()"
   ]
  },
  {
   "cell_type": "markdown",
   "metadata": {},
   "source": [
    "# Finding Grocery Store Score"
   ]
  },
  {
   "cell_type": "markdown",
   "metadata": {},
   "source": [
    "First I imported the modules I needed, then created a last of 1000 colors that gradient from orange to red, and used that to fill in each neighborhood according to their scors."
   ]
  },
  {
   "cell_type": "code",
   "execution_count": null,
   "metadata": {},
   "outputs": [],
   "source": [
    "import geopandas as gpd\n",
    "import matplotlib.pyplot as plt\n",
    "try:\n",
    "    from colour import Color\n",
    "except:\n",
    "    print(\"make sure to do pip install colour. you also need to restart your kernel after you install the pacakge\")\n",
    "    quit()\n",
    "\n",
    "#create list of 1000 colors that gradient from red to orange, the more red, the higher the score\n",
    "orange_red = list((Color(\"orange\").range_to(Color(\"red\"),1000)))\n",
    "colors = orange_red"
   ]
  },
  {
   "cell_type": "markdown",
   "metadata": {},
   "source": [
    "I then imported all the data I need, and made a list of the intersection of data in which we had geographic, fast food, and grocery store data."
   ]
  },
  {
   "cell_type": "code",
   "execution_count": null,
   "metadata": {},
   "outputs": [],
   "source": [
    "#importing data\n",
    "neighborhoodPitt = gpd.read_file('pittsburghpaneighborhoods-.geojson')[\"geometry\"]\n",
    "neighborhoodnamePitt = gpd.read_file('pittsburghpaneighborhoods-.geojson')[\"hood\"]\n",
    "csv = gpd.read_file('bigideas_finalprojdata.csv')\n",
    "\n",
    "\n",
    "data_list = [\"Banksville\", \"Bloomfield\", \"Central Business District\", \"Central Lawrenceville\", \"East Liberty\", \"Manchester\", \"North Oakland\", \"Perry South\", \"Shadyside\", \"South Side Slopes\", \"Squirrel Hill South\", \"St. Clair\", \"Troy Hill\"]"
   ]
  },
  {
   "cell_type": "markdown",
   "metadata": {},
   "source": [
    "I then found the min and max values for the fastfood per capita, and made a for loop to go through our data and find the min and max."
   ]
  },
  {
   "cell_type": "code",
   "execution_count": null,
   "metadata": {},
   "outputs": [],
   "source": [
    "#find min and max values for score normalization\n",
    "maxFFGroc = 0\n",
    "minFFGroc = 10000\n",
    "\n",
    "for i in range(len(csv[\"Grocery Store Per Capita\"])):\n",
    "    if float(csv[\"Grocery Store Per Capita\"][i]) < minFFGroc:\n",
    "        minFFGroc = eval(csv[\"Grocery Store Per Capita\"][i])\n",
    "    if float(csv[\"Grocery Store Per Capita\"][i]) > maxFFGroc:\n",
    "        maxFFGroc = eval(csv[\"Grocery Store Per Capita\"][i])\n"
   ]
  },
  {
   "cell_type": "markdown",
   "metadata": {},
   "source": [
    "I made a loop that when through the geograhpic neighborhood data, checked if there was data for it, if there was, it found a normalized score between 0 and 1, and used that to find its\n",
    "corresponing color in the color list array to use as the neighborhoods fill color, then plotted the neighrbood."
   ]
  },
  {
   "cell_type": "code",
   "execution_count": 5,
   "metadata": {},
   "outputs": [
    {
     "name": "stdout",
     "output_type": "stream",
     "text": [
      "North Oakland: 0.10838555794593546\n",
      "East Liberty: 1.0\n",
      "Manchester: 0.0\n",
      "Central Business District: 0.07052218367719555\n",
      "South Side Slopes: 0.1785301594638314\n",
      "Bloomfield: 0.13372763993075554\n",
      "Banksville: 0.18718197237702897\n",
      "Central Lawrenceville: 0.08183262711864392\n",
      "Troy Hill: 0.2830707218761445\n",
      "St. Clair: 0.38683024536805133\n",
      "Shadyside: 0.02521707906247956\n",
      "Squirrel Hill South: 0.10086831624991809\n",
      "Perry South: 0.30776892430278824\n"
     ]
    },
    {
     "data": {
      "image/png": "[encoded data removed]",
      "text/plain": [
       "<Figure size 432x288 with 1 Axes>"
      ]
     },
     "metadata": {
      "needs_background": "light"
     },
     "output_type": "display_data"
    }
   ],
   "source": [
    "#GSPC\n",
    "for i in range(len(neighborhoodPitt)):\n",
    "    try:\n",
    "        if (neighborhoodnamePitt[i]in data_list) == True:\n",
    "            shape = neighborhoodPitt[i]\n",
    "            hoodData = csv.loc[csv['Neighborhood'] == neighborhoodnamePitt[i]]\n",
    "            weight = float(hoodData[\"Grocery Store Per Capita\"]) / maxFFGroc #find the grocery store locations per captia and divides it by the max fast food per captia number to get a normalized score\n",
    "            print(str(neighborhoodnamePitt[i]) + \": \" + (str(weight)))\n",
    "            fill_color = str(colors[int(weight * 1000) - 1]).upper()#chooses color of neighborhood based on normalized score\n",
    "            \n",
    "            #plots nieghborhood\n",
    "            x,y = shape.exterior.xy\n",
    "            plt.plot(x, y, linestyle=\"None\")\n",
    "            plt.fill(x, y, color=fill_color)\n",
    "        else:\n",
    "            #plots neighborhood in gray is no data is available\n",
    "            shape = neighborhoodPitt[i]\n",
    "            x,y = shape.exterior.xy\n",
    "            plt.plot(x, y, linestyle=\"None\")\n",
    "            plt.fill(x, y, color=\"#b36b00\")\n",
    "    except:\n",
    "        for x in range(len(neighborhoodPitt[i])):\n",
    "            #plots neighborhood in gray is no data is available\n",
    "            shape = neighborhoodPitt[i][x]\n",
    "            fill_color = str(colors[int(weight * 1000) - 1]).upper()\n",
    "            x,y = shape.exterior.xy\n",
    "            plt.plot(x, y, linestyle=\"None\")\n",
    "            plt.fill(x, y, color=\"#b36b00\")\n",
    "\n",
    "plt.show()"
   ]
  },
  {
   "cell_type": "markdown",
   "metadata": {},
   "source": [
    "# Finding Total Score"
   ]
  },
  {
   "cell_type": "markdown",
   "metadata": {},
   "source": [
    "I imported the data I need and created a dictionary to keep track of scores."
   ]
  },
  {
   "cell_type": "code",
   "execution_count": null,
   "metadata": {},
   "outputs": [],
   "source": [
    "import geopandas as gpd\n",
    "import matplotlib.pyplot as plt\n",
    "\n",
    "\n",
    "#importing data\n",
    "neighborhoodPitt = gpd.read_file('pittsburghpaneighborhoods-.geojson')[\"geometry\"]\n",
    "neighborhoodnamePitt = gpd.read_file('pittsburghpaneighborhoods-.geojson')[\"hood\"]\n",
    "csv = gpd.read_file('bigideas_finalprojdata.csv')\n",
    "\n",
    "\n",
    "data_list = [\"Banksville\", \"Bloomfield\", \"Central Business District\", \"Central Lawrenceville\", \"East Liberty\", \"Manchester\", \"North Oakland\", \"Perry South\", \"Shadyside\", \"South Side Slopes\", \"Squirrel Hill South\", \"St. Clair\", \"Troy Hill\"]\n",
    "\n",
    "dict = {} #create a dictionary for keeping track of scores\n"
   ]
  },
  {
   "cell_type": "markdown",
   "metadata": {},
   "source": [
    "I found the man and mins of both the fast food per captia and grocery store per captia data."
   ]
  },
  {
   "cell_type": "code",
   "execution_count": null,
   "metadata": {},
   "outputs": [],
   "source": [
    "#find min and max values for score normalization\n",
    "maxFFCaptia = 0\n",
    "minFFCaptia = 10000\n",
    "fail = 0\n",
    "maxFFGroc = 0\n",
    "minFFGroc = 10000\n",
    "\n",
    "for i in range(len(csv[\"Grocery Store Per Capita\"])):\n",
    "    if float(csv[\"Grocery Store Per Capita\"][i]) < minFFGroc:\n",
    "        minFFGroc = eval(csv[\"Grocery Store Per Capita\"][i])\n",
    "    if float(csv[\"Grocery Store Per Capita\"][i]) > maxFFGroc:\n",
    "        maxFFGroc = eval(csv[\"Grocery Store Per Capita\"][i])\n",
    "\n",
    "for i in range(len(csv[\"Fast Food Per Capita\"])):\n",
    "    if eval(csv[\"Fast Food Per Capita\"][i]) < minFFCaptia:\n",
    "        minFFCaptia = eval(csv[\"Fast Food Per Capita\"][i])\n",
    "    if eval(csv[\"Fast Food Per Capita\"][i]) > maxFFCaptia:\n",
    "        maxFFCaptia = eval(csv[\"Fast Food Per Capita\"][i])\n"
   ]
  },
  {
   "cell_type": "markdown",
   "metadata": {},
   "source": [
    "I then calculated the normalized score for the fast food score, and subtracted it from the total score."
   ]
  },
  {
   "cell_type": "code",
   "execution_count": null,
   "metadata": {},
   "outputs": [],
   "source": [
    "for i in range(len(neighborhoodPitt)):\n",
    "    try:\n",
    "        if (neighborhoodnamePitt[i]in data_list) == True:\n",
    "            hoodData = csv.loc[csv['Neighborhood'] == neighborhoodnamePitt[i]]\n",
    "            weight = float(hoodData[\"Fast Food Per Capita\"]) / maxFFCaptia #find the fast food locations per captia and divides it by the max fast food per captia number to get a normalized score\n",
    "            \n",
    "            #subtracts fast food score from total score\n",
    "            try:\n",
    "                dict[neighborhoodnamePitt[i]] = -(weight/2) \n",
    "            except:\n",
    "                dict[neighborhoodnamePitt[i]] -= (weight/2)\n",
    "        else:\n",
    "            fail += 1\n",
    "    except:\n",
    "        for x in range(len(neighborhoodPitt[i])):\n",
    "            fail += 1"
   ]
  },
  {
   "cell_type": "markdown",
   "metadata": {},
   "source": [
    "I did the same normalization for the grocery store and added it to the total score"
   ]
  },
  {
   "cell_type": "code",
   "execution_count": null,
   "metadata": {},
   "outputs": [],
   "source": [
    "for i in range(len(neighborhoodPitt)):\n",
    "    try:\n",
    "        if (neighborhoodnamePitt[i]in data_list) == True:\n",
    "            hoodData = csv.loc[csv['Neighborhood'] == neighborhoodnamePitt[i]]\n",
    "            weight = float(hoodData[\"Grocery Store Per Capita\"]) / maxFFGroc #find the grocery store locations per captia and divides it by the max fast food per captia number to get a normalized score\n",
    "            dict[neighborhoodnamePitt[i]] += (weight/2) #adds grocery store score to total score\n",
    "        else:\n",
    "            fail += 1\n",
    "    except:\n",
    "        for x in range(len(neighborhoodPitt[i])):\n",
    "            fail += 1\n",
    "            "
   ]
  },
  {
   "cell_type": "markdown",
   "metadata": {},
   "source": [
    "I sorted the dictionary and printed the top 5 scores"
   ]
  },
  {
   "cell_type": "code",
   "execution_count": null,
   "metadata": {},
   "outputs": [],
   "source": [
    "sorted_dict = sorted(dict, key=dict.get)\n",
    "\n",
    "#prints top scores\n",
    "for i in range(5):\n",
    "    name = sorted_dict[len(sorted_dict) - 1 - i]\n",
    "    print(name + \": \" +str(dict[name]))"
   ]
  },
  {
   "cell_type": "markdown",
   "metadata": {},
   "source": [
    "Then I showed a bar graph with all the scores."
   ]
  },
  {
   "cell_type": "code",
   "execution_count": 11,
   "metadata": {},
   "outputs": [
    {
     "name": "stdout",
     "output_type": "stream",
     "text": [
      "East Liberty: 0.10455771305285833\n",
      "St. Clair: 0.04044608579535949\n",
      "Bloomfield: 0.028404500865550852\n",
      "Perry South: 0.021115537848605398\n",
      "Central Lawrenceville: -0.01792019774011335\n"
     ]
    },
    {
     "data": {
      "image/png": "[encoded data removed]",
      "text/plain": [
       "<Figure size 432x288 with 1 Axes>"
      ]
     },
     "metadata": {
      "needs_background": "light"
     },
     "output_type": "display_data"
    }
   ],
   "source": [
    "names = list(dict.keys())\n",
    "values = list(dict.values())\n",
    "\n",
    "import random\n",
    "\n",
    "\n",
    "colorList = (['red', \"orange\" , \"yellow\", \"green\", \"blue\", \"purple\", \"pink\", \"brown\"])\n",
    "random.shuffle(colorList)\n",
    "plt.bar(range(len(dict)), values, tick_label=names, color = colorList)\n",
    "plt.xticks(range(len(names)), names, rotation=90)\n",
    "plt.show()"
   ]
  },
  {
   "cell_type": "markdown",
   "metadata": {},
   "source": [
    "--------------------------------"
   ]
  },
  {
   "cell_type": "markdown",
   "metadata": {},
   "source": [
    "# Conclusion\n",
    "\n",
    "### Afam\n",
    "In my head, I immediately thought of East Liberty as the “best” due to a data-driven approach. I knew that East Liberty had lots of grocery stores, and not a lot of fast food places. They also have a lot of sit down style restaurants and lots of healthy food options. There were roadblocks in this project, and it mostly came down to data availability. Though WPRDC is a great resource, some of their data is inaccurate or incomplete. Filtering and cleaning data was a large part of this project.\n",
    "\n",
    "\n",
    "### Nick \n",
    "As shown in the data, East Liberty is the best neighborhood to be in in terms of fresh food availability. There are 11 fast food restaurants in the area, however when you look at the ratio of fast food to grocery stores, it is the best in the city. This result was to be expected because many students at Pitt and city residents travel via bus to shop at these stores. However, living in East Liberty provides the easiest access to these stores. Some of the problems that were encountered in this project was working with the data from the WPRDC. Figuring out what zip codes corresponded to what neighborhoods and assigning values based on that neighborhood took an enormous amount of manual effort that could have been solved if the data was formatted better. After working with the data, we were able to simplify it down into something that was easily read and usable by a computer and comprehensible when visualizing it.\n"
   ]
  },
  {
   "cell_type": "markdown",
   "metadata": {},
   "source": [
    "--------------------------------\n",
    "# Full Code\n"
   ]
  },
  {
   "cell_type": "code",
   "execution_count": 7,
   "metadata": {},
   "outputs": [
    {
     "name": "stdout",
     "output_type": "stream",
     "text": [
      "Max zip code: 15146 value: 51\n"
     ]
    }
   ],
   "source": [
    "import csv\n",
    "with open('fastfood.csv', 'r', newline='') as csvfile:\n",
    "    reader = csv.DictReader(csvfile)\n",
    "    ocurrences = {}\n",
    "    for row in reader:\n",
    "        if row['ZIP Code'] in ocurrences.keys():\n",
    "            ocurrences[row['ZIP Code']] = ocurrences[row['ZIP Code']] + 1\n",
    "        else:\n",
    "            ocurrences[row['ZIP Code']] = 1\n",
    "    max_val = max(ocurrences.values())\n",
    "    max_key = max(ocurrences, key=ocurrences.get)\n",
    "    #for key in ocurrences.keys(): \n",
    "        #print(\"Zip code:\", key, \"Number of ocurrences:\", ocurrences[key])\n",
    "    \"\"\"The section hashtaged out would print out the amount of fast food establishments per zipcode in the list\"\"\"\n",
    "    \n",
    "    print(\"Max zip code:\", max_key, \"value:\", max_val)"
   ]
  },
  {
   "cell_type": "code",
   "execution_count": 8,
   "metadata": {},
   "outputs": [
    {
     "name": "stdout",
     "output_type": "stream",
     "text": [
      "Max zip code: 15237 value: 10\n"
     ]
    }
   ],
   "source": [
    "import csv\n",
    "with open('supermarket.csv', 'r', newline='') as csvfile:\n",
    "    reader = csv.DictReader(csvfile)\n",
    "    ocurrences = {}\n",
    "    for row in reader:\n",
    "        if row['Zip'] in ocurrences.keys():\n",
    "            ocurrences[row['Zip']] = ocurrences[row['Zip']] + 1\n",
    "        else:\n",
    "            ocurrences[row['Zip']] = 1\n",
    "    max_val = max(ocurrences.values())\n",
    "    max_key = max(ocurrences, key=ocurrences.get)\n",
    "    #for key in ocurrences.keys():\n",
    "        #print(\"Zip code:\", key, \"Number of ocurrences:\", ocurrences[key])\n",
    "    \"\"\"The section hashtaged out would print out the amount of grocery stores per zipcode in the list\"\"\"\n",
    "    \n",
    "    print(\"Max zip code:\", max_key, \"value:\", max_val)"
   ]
  },
  {
   "cell_type": "code",
   "execution_count": 2,
   "metadata": {},
   "outputs": [
    {
     "name": "stdout",
     "output_type": "stream",
     "text": [
      "North Oakland: 0.394833660711502\n",
      "East Liberty: 0.7908845738942833\n",
      "Manchester: 0.2086071987480439\n",
      "Central Business District: 0.5476081796603985\n",
      "South Side Slopes: 0.4877705877821428\n",
      "Bloomfield: 0.07691863819965383\n",
      "Banksville: 0.296078668928196\n",
      "Central Lawrenceville: 0.11767302259887062\n",
      "Troy Hill: 0.9362098448760228\n",
      "St. Clair: 0.30593807377733234\n",
      "Shadyside: 0.08702748580009143\n",
      "Squirrel Hill South: 0.14504580966681885\n",
      "Perry South: 0.26553784860557744\n"
     ]
    },
    {
     "data": {
      "image/png": "[encoded data removed]",
      "text/plain": [
       "<Figure size 432x288 with 1 Axes>"
      ]
     },
     "metadata": {
      "needs_background": "light"
     },
     "output_type": "display_data"
    }
   ],
   "source": [
    "import geopandas as gpd\n",
    "import matplotlib.pyplot as plt\n",
    "\n",
    "try:\n",
    "    from colour import Color\n",
    "except:\n",
    "    print(\"make sure to do pip install colour. you also need to restart your kernel after you install the pacakge\")\n",
    "    quit()\n",
    "\n",
    "#create list of 1000 colors that gradient from green to yellow, the more yellow, the higher the score\n",
    "green_yellow = list((Color(\"green\").range_to(Color(\"yellow\"),1000)))\n",
    "colors = green_yellow\n",
    "\n",
    "#importing data\n",
    "neighborhoodPitt = gpd.read_file('pittsburghpaneighborhoods-.geojson')[\"geometry\"]\n",
    "neighborhoodnamePitt = gpd.read_file('pittsburghpaneighborhoods-.geojson')[\"hood\"]\n",
    "csv = gpd.read_file('bigideas_finalprojdata.csv')\n",
    "\n",
    "\n",
    "data_list = [\"Banksville\", \"Bloomfield\", \"Central Business District\", \"Central Lawrenceville\", \"East Liberty\", \"Manchester\", \"North Oakland\", \"Perry South\", \"Shadyside\", \"South Side Slopes\", \"Squirrel Hill South\", \"St. Clair\", \"Troy Hill\"]\n",
    "\n",
    "#find min and max values for score normalization\n",
    "maxFFCaptia = 0\n",
    "minFFCaptia = 10000\n",
    "for i in range(len(csv[\"Fast Food Per Capita\"])):\n",
    "    if eval(csv[\"Fast Food Per Capita\"][i]) < minFFCaptia:\n",
    "        minFFCaptia = eval(csv[\"Fast Food Per Capita\"][i])\n",
    "    if eval(csv[\"Fast Food Per Capita\"][i]) > maxFFCaptia:\n",
    "        maxFFCaptia = eval(csv[\"Fast Food Per Capita\"][i])\n",
    "\n",
    "\n",
    "for i in range(len(neighborhoodPitt)):\n",
    "    try:\n",
    "        if (neighborhoodnamePitt[i]in data_list) == True:\n",
    "            shape = neighborhoodPitt[i]\n",
    "            hoodData = csv.loc[csv['Neighborhood'] == neighborhoodnamePitt[i]]\n",
    "            weight = float(hoodData[\"Fast Food Per Capita\"]) / maxFFCaptia #find the fast food locations per captia and divides it by the max fast food per captia number to get a normalized score\n",
    "            print(str(neighborhoodnamePitt[i]) + \": \" + (str(weight)))\n",
    "            fill_color = str(colors[int(weight * 1000) - 1]).upper() #chooses color of neighborhood based on normalized score\n",
    "            \n",
    "            #plots nieghborhood\n",
    "            x,y = shape.exterior.xy\n",
    "            plt.plot(x, y, linestyle=\"None\")\n",
    "            plt.fill(x, y, color=fill_color)\n",
    "        else:\n",
    "            #plots neighborhood in gray is no data is available\n",
    "            shape = neighborhoodPitt[i]\n",
    "            x,y = shape.exterior.xy\n",
    "            plt.plot(x, y, linestyle=\"None\")\n",
    "            plt.fill(x, y, color=\"#006600\")\n",
    "\n",
    "    except:\n",
    "        for x in range(len(neighborhoodPitt[i])):\n",
    "            #plots neighborhood in gray is no data is available\n",
    "            shape = neighborhoodPitt[i][x]\n",
    "            fill_color = str(colors[int(weight * 1000) - 1]).upper()\n",
    "            x,y = shape.exterior.xy\n",
    "            plt.plot(x, y, linestyle=\"None\")\n",
    "            plt.fill(x, y, color=\"#006600\")\n",
    "\n",
    "plt.show()"
   ]
  },
  {
   "cell_type": "code",
   "execution_count": 5,
   "metadata": {},
   "outputs": [
    {
     "name": "stdout",
     "output_type": "stream",
     "text": [
      "North Oakland: 0.10838555794593546\n",
      "East Liberty: 1.0\n",
      "Manchester: 0.0\n",
      "Central Business District: 0.07052218367719555\n",
      "South Side Slopes: 0.1785301594638314\n",
      "Bloomfield: 0.13372763993075554\n",
      "Banksville: 0.18718197237702897\n",
      "Central Lawrenceville: 0.08183262711864392\n",
      "Troy Hill: 0.2830707218761445\n",
      "St. Clair: 0.38683024536805133\n",
      "Shadyside: 0.02521707906247956\n",
      "Squirrel Hill South: 0.10086831624991809\n",
      "Perry South: 0.30776892430278824\n"
     ]
    },
    {
     "data": {
      "image/png": "[encoded data removed]",
      "text/plain": [
       "<Figure size 432x288 with 1 Axes>"
      ]
     },
     "metadata": {
      "needs_background": "light"
     },
     "output_type": "display_data"
    }
   ],
   "source": [
    "import geopandas as gpd\n",
    "import matplotlib.pyplot as plt\n",
    "try:\n",
    "    from colour import Color\n",
    "except:\n",
    "    print(\"make sure to do pip install colour. you also need to restart your kernel after you install the pacakge\")\n",
    "    quit()\n",
    "    \n",
    "#create list of 1000 colors that gradient from red to orange, the more red, the higher the score\n",
    "orange_red = list((Color(\"orange\").range_to(Color(\"red\"),1000)))\n",
    "colors = orange_red\n",
    "\n",
    "#importing data\n",
    "neighborhoodPitt = gpd.read_file('pittsburghpaneighborhoods-.geojson')[\"geometry\"]\n",
    "neighborhoodnamePitt = gpd.read_file('pittsburghpaneighborhoods-.geojson')[\"hood\"]\n",
    "csv = gpd.read_file('bigideas_finalprojdata.csv')\n",
    "\n",
    "\n",
    "data_list = [\"Banksville\", \"Bloomfield\", \"Central Business District\", \"Central Lawrenceville\", \"East Liberty\", \"Manchester\", \"North Oakland\", \"Perry South\", \"Shadyside\", \"South Side Slopes\", \"Squirrel Hill South\", \"St. Clair\", \"Troy Hill\"]\n",
    "\n",
    "#find min and max values for score normalization\n",
    "maxFFGroc = 0\n",
    "minFFGroc = 10000\n",
    "\n",
    "for i in range(len(csv[\"Grocery Store Per Capita\"])):\n",
    "    if float(csv[\"Grocery Store Per Capita\"][i]) < minFFGroc:\n",
    "        minFFGroc = eval(csv[\"Grocery Store Per Capita\"][i])\n",
    "    if float(csv[\"Grocery Store Per Capita\"][i]) > maxFFGroc:\n",
    "        maxFFGroc = eval(csv[\"Grocery Store Per Capita\"][i])\n",
    "\n",
    "#GSPC\n",
    "for i in range(len(neighborhoodPitt)):\n",
    "    try:\n",
    "        if (neighborhoodnamePitt[i]in data_list) == True:\n",
    "            shape = neighborhoodPitt[i]\n",
    "            hoodData = csv.loc[csv['Neighborhood'] == neighborhoodnamePitt[i]]\n",
    "            weight = float(hoodData[\"Grocery Store Per Capita\"]) / maxFFGroc #find the grocery store locations per captia and divides it by the max fast food per captia number to get a normalized score\n",
    "            print(str(neighborhoodnamePitt[i]) + \": \" + (str(weight)))\n",
    "            fill_color = str(colors[int(weight * 1000) - 1]).upper()#chooses color of neighborhood based on normalized score\n",
    "            \n",
    "            #plots nieghborhood\n",
    "            x,y = shape.exterior.xy\n",
    "            plt.plot(x, y, linestyle=\"None\")\n",
    "            plt.fill(x, y, color=fill_color)\n",
    "        else:\n",
    "            #plots neighborhood in gray is no data is available\n",
    "            shape = neighborhoodPitt[i]\n",
    "            x,y = shape.exterior.xy\n",
    "            plt.plot(x, y, linestyle=\"None\")\n",
    "            plt.fill(x, y, color=\"#b36b00\")\n",
    "    except:\n",
    "        for x in range(len(neighborhoodPitt[i])):\n",
    "            #plots neighborhood in gray is no data is available\n",
    "            shape = neighborhoodPitt[i][x]\n",
    "            fill_color = str(colors[int(weight * 1000) - 1]).upper()\n",
    "            x,y = shape.exterior.xy\n",
    "            plt.plot(x, y, linestyle=\"None\")\n",
    "            plt.fill(x, y, color=\"#b36b00\")\n",
    "\n",
    "plt.show()\n"
   ]
  },
  {
   "cell_type": "code",
   "execution_count": 11,
   "metadata": {},
   "outputs": [
    {
     "name": "stdout",
     "output_type": "stream",
     "text": [
      "East Liberty: 0.10455771305285833\n",
      "St. Clair: 0.04044608579535949\n",
      "Bloomfield: 0.028404500865550852\n",
      "Perry South: 0.021115537848605398\n",
      "Central Lawrenceville: -0.01792019774011335\n"
     ]
    },
    {
     "data": {
      "image/png": "[encoded data removed]",
      "text/plain": [
       "<Figure size 432x288 with 1 Axes>"
      ]
     },
     "metadata": {
      "needs_background": "light"
     },
     "output_type": "display_data"
    }
   ],
   "source": [
    "import geopandas as gpd\n",
    "import matplotlib.pyplot as plt\n",
    "\n",
    "\n",
    "#importing data\n",
    "neighborhoodPitt = gpd.read_file('pittsburghpaneighborhoods-.geojson')[\"geometry\"]\n",
    "neighborhoodnamePitt = gpd.read_file('pittsburghpaneighborhoods-.geojson')[\"hood\"]\n",
    "csv = gpd.read_file('bigideas_finalprojdata.csv')\n",
    "\n",
    "\n",
    "data_list = [\"Banksville\", \"Bloomfield\", \"Central Business District\", \"Central Lawrenceville\", \"East Liberty\", \"Manchester\", \"North Oakland\", \"Perry South\", \"Shadyside\", \"South Side Slopes\", \"Squirrel Hill South\", \"St. Clair\", \"Troy Hill\"]\n",
    "\n",
    "dict = {} #create a dictionary for keeping track of scores\n",
    "\n",
    "#find min and max values for score normalization\n",
    "maxFFCaptia = 0\n",
    "minFFCaptia = 10000\n",
    "fail = 0\n",
    "maxFFGroc = 0\n",
    "minFFGroc = 10000\n",
    "\n",
    "for i in range(len(csv[\"Grocery Store Per Capita\"])):\n",
    "    if float(csv[\"Grocery Store Per Capita\"][i]) < minFFGroc:\n",
    "        minFFGroc = eval(csv[\"Grocery Store Per Capita\"][i])\n",
    "    if float(csv[\"Grocery Store Per Capita\"][i]) > maxFFGroc:\n",
    "        maxFFGroc = eval(csv[\"Grocery Store Per Capita\"][i])\n",
    "\n",
    "for i in range(len(csv[\"Fast Food Per Capita\"])):\n",
    "    if eval(csv[\"Fast Food Per Capita\"][i]) < minFFCaptia:\n",
    "        minFFCaptia = eval(csv[\"Fast Food Per Capita\"][i])\n",
    "    if eval(csv[\"Fast Food Per Capita\"][i]) > maxFFCaptia:\n",
    "        maxFFCaptia = eval(csv[\"Fast Food Per Capita\"][i])\n",
    "\n",
    "\n",
    "for i in range(len(neighborhoodPitt)):\n",
    "    try:\n",
    "        if (neighborhoodnamePitt[i]in data_list) == True:\n",
    "            hoodData = csv.loc[csv['Neighborhood'] == neighborhoodnamePitt[i]]\n",
    "            weight = float(hoodData[\"Fast Food Per Capita\"]) / maxFFCaptia #find the fast food locations per captia and divides it by the max fast food per captia number to get a normalized score\n",
    "            \n",
    "            #subtracts fast food score from total score\n",
    "            try:\n",
    "                dict[neighborhoodnamePitt[i]] = -(weight/2) \n",
    "            except:\n",
    "                dict[neighborhoodnamePitt[i]] -= (weight/2)\n",
    "        else:\n",
    "            fail += 1\n",
    "    except:\n",
    "        for x in range(len(neighborhoodPitt[i])):\n",
    "            fail += 1\n",
    "\n",
    "for i in range(len(neighborhoodPitt)):\n",
    "    try:\n",
    "        if (neighborhoodnamePitt[i]in data_list) == True:\n",
    "            hoodData = csv.loc[csv['Neighborhood'] == neighborhoodnamePitt[i]]\n",
    "            weight = float(hoodData[\"Grocery Store Per Capita\"]) / maxFFGroc #find the grocery store locations per captia and divides it by the max fast food per captia number to get a normalized score\n",
    "            dict[neighborhoodnamePitt[i]] += (weight/2) #adds grocery store score to total score\n",
    "        else:\n",
    "            fail += 1\n",
    "    except:\n",
    "        for x in range(len(neighborhoodPitt[i])):\n",
    "            fail += 1\n",
    "            \n",
    "sorted_dict = sorted(dict, key=dict.get)\n",
    "\n",
    "#prints top scores\n",
    "for i in range(5):\n",
    "    name = sorted_dict[len(sorted_dict) - 1 - i]\n",
    "    print(name + \": \" +str(dict[name]))\n",
    "    \n",
    "\n",
    "names = list(dict.keys())\n",
    "values = list(dict.values())\n",
    "\n",
    "import random\n",
    "\n",
    "\n",
    "colorList = (['red', \"orange\" , \"yellow\", \"green\", \"blue\", \"purple\", \"pink\", \"brown\"])\n",
    "random.shuffle(colorList)\n",
    "plt.bar(range(len(dict)), values, tick_label=names, color = colorList)\n",
    "plt.xticks(range(len(names)), names, rotation=90)\n",
    "plt.show()"
   ]
  }
 ],
 "metadata": {
  "kernelspec": {
   "display_name": "Python 3",
   "language": "python",
   "name": "python3"
  },
  "language_info": {
   "codemirror_mode": {
    "name": "ipython",
    "version": 3
   },
   "file_extension": ".py",
   "mimetype": "text/x-python",
   "name": "python",
   "nbconvert_exporter": "python",
   "pygments_lexer": "ipython3",
   "version": "3.8.3"
  }
 },
 "nbformat": 4,
 "nbformat_minor": 4
}
