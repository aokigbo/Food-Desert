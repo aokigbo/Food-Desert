{
 "cells": [
  {
   "cell_type": "markdown",
   "metadata": {},
   "source": [
    "### Food Desert\n",
    "- https://data.wprdc.org/dataset/allegheny-county-supermarkets-convenience-stores\n",
    "- https://data.wprdc.org/dataset/allegheny-county-fast-food\n",
    "- https://data.wprdc.org/dataset/prt-transit-stop-usage \n",
    "\n",
    "\n",
    "ratio between people fast food erstbalishemsnt snad groceyr stores\n",
    "density of groceyr stores and density of fast food\n",
    "ratio bewteern the amount of groceyr stores per person for a count\n",
    "average distance from a grocery\n"
   ]
  },
  {
   "cell_type": "code",
   "execution_count": null,
   "metadata": {},
   "outputs": [],
   "source": []
  }
 ],
 "metadata": {
  "kernelspec": {
   "display_name": "Python 3",
   "language": "python",
   "name": "python3"
  },
  "language_info": {
   "codemirror_mode": {
    "name": "ipython",
    "version": 3
   },
   "file_extension": ".py",
   "mimetype": "text/x-python",
   "name": "python",
   "nbconvert_exporter": "python",
   "pygments_lexer": "ipython3",
   "version": "3.8.3"
  }
 },
 "nbformat": 4,
 "nbformat_minor": 4
}
